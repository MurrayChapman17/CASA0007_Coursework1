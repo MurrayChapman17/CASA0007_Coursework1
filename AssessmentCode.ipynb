{
 "cells": [
  {
   "cell_type": "markdown",
   "metadata": {},
   "source": [
    " #### Import all necessary modules and packages"
   ]
  },
  {
   "cell_type": "code",
   "execution_count": 18,
   "metadata": {
    "tags": []
   },
   "outputs": [],
   "source": [
    "import pandas as pd\n",
    "from sklearn.linear_model import LinearRegression\n",
    "import statsmodels.api as sm\n",
    "import scipy.stats as sps\n",
    "from statsmodels.stats.outliers_influence import variance_inflation_factor \n",
    "from statsmodels.tools.tools import add_constant\n",
    "import statistics as stats\n",
    "import numpy as np\n",
    "import sklearn\n",
    "from sklearn.linear_model import LogisticRegression\n",
    "from sklearn.metrics import confusion_matrix\n",
    "import matplotlib.pyplot as plt \n",
    "import seaborn as sn"
   ]
  },
  {
   "cell_type": "markdown",
   "metadata": {},
   "source": [
    " #### Read in the dataset"
   ]
  },
  {
   "cell_type": "code",
   "execution_count": 19,
   "metadata": {},
   "outputs": [],
   "source": [
    "co_data = pd.read_csv('QM_Assessment_1/coursework_1_data_2019.csv')"
   ]
  },
  {
   "cell_type": "markdown",
   "metadata": {},
   "source": [
    " #### Define a function which takes one variable and normalises it against another\n",
    " #### A boolean variable \"standardise\" enables a variable to also be standardised"
   ]
  },
  {
   "cell_type": "code",
   "execution_count": 20,
   "metadata": {},
   "outputs": [],
   "source": [
    "def normalise_column(column_name1, column_name2, standardise = True):\n",
    "    per_capita = co_data[column_name1] / co_data[column_name2]\n",
    "    if standardise == True:\n",
    "        rate = (per_capita - per_capita.mean()) / stats.stdev(per_capita)\n",
    "        new_column_name = (column_name1+'_rate_standardised')\n",
    "    else:\n",
    "        rate = 100000 * per_capita\n",
    "        new_column_name = (column_name1+'_per_100,000')\n",
    "    co_data[new_column_name] = rate\n",
    "\n",
    "co_data['average_pop'] = co_data[['2008_pop_total',\n",
    "                                  '2013_pop_total',\n",
    "                                  '2018_pop_total']].mean(axis=1)"
   ]
  },
  {
   "cell_type": "markdown",
   "metadata": {},
   "source": [
    " #### Create new columns for Condition X rates per 100,000"
   ]
  },
  {
   "cell_type": "code",
   "execution_count": 21,
   "metadata": {},
   "outputs": [],
   "source": [
    "normalise_column('2008_cases_total', '2008_pop_total', standardise = False)\n",
    "normalise_column('2013_cases_total', '2013_pop_total', standardise = False)\n",
    "normalise_column('2018_cases_total', '2018_pop_total', standardise = False)\n",
    "normalise_column('total_budget', 'average_pop', standardise = False)"
   ]
  },
  {
   "cell_type": "markdown",
   "metadata": {},
   "source": [
    " #### Create new columns for funding rates normalised"
   ]
  },
  {
   "cell_type": "code",
   "execution_count": 22,
   "metadata": {},
   "outputs": [],
   "source": [
    "normalise_column('clean_air', 'average_pop')\n",
    "normalise_column('clean_environ', 'average_pop')\n",
    "normalise_column('health_training', 'average_pop')\n",
    "normalise_column('school_awareness', 'average_pop')\n",
    "normalise_column('media_awareness', 'average_pop')\n",
    "normalise_column('sub_counselling', 'average_pop')"
   ]
  },
  {
   "cell_type": "markdown",
   "metadata": {},
   "source": [
    " #### Create for case rates in 2008 and 2018"
   ]
  },
  {
   "cell_type": "code",
   "execution_count": 23,
   "metadata": {},
   "outputs": [],
   "source": [
    "cases_2008 = co_data['2008_cases_total_per_100,000']\n",
    "cases_2018 = co_data['2018_cases_total_per_100,000']"
   ]
  },
  {
   "cell_type": "markdown",
   "metadata": {},
   "source": [
    " #### Create a new column for the decrease in childhood obesity rates from 2008 to 2018"
   ]
  },
  {
   "cell_type": "code",
   "execution_count": 24,
   "metadata": {},
   "outputs": [],
   "source": [
    "rate_decrease = cases_2008 - cases_2018\n",
    "co_data['rate_decrease_2008_to_2018'] = rate_decrease"
   ]
  },
  {
   "cell_type": "markdown",
   "metadata": {},
   "source": [
    " #### Get summary statistics for the newly created columns"
   ]
  },
  {
   "cell_type": "code",
   "execution_count": 25,
   "metadata": {},
   "outputs": [
    {
     "data": {
      "text/html": [
       "<div>\n",
       "<style scoped>\n",
       "    .dataframe tbody tr th:only-of-type {\n",
       "        vertical-align: middle;\n",
       "    }\n",
       "\n",
       "    .dataframe tbody tr th {\n",
       "        vertical-align: top;\n",
       "    }\n",
       "\n",
       "    .dataframe thead th {\n",
       "        text-align: right;\n",
       "    }\n",
       "</style>\n",
       "<table border=\"1\" class=\"dataframe\">\n",
       "  <thead>\n",
       "    <tr style=\"text-align: right;\">\n",
       "      <th></th>\n",
       "      <th>2008_cases_total_per_100,000</th>\n",
       "      <th>2013_cases_total_per_100,000</th>\n",
       "      <th>2018_cases_total_per_100,000</th>\n",
       "      <th>clean_air_rate_standardised</th>\n",
       "      <th>clean_environ_rate_standardised</th>\n",
       "      <th>health_training_rate_standardised</th>\n",
       "      <th>school_awareness_rate_standardised</th>\n",
       "      <th>media_awareness_rate_standardised</th>\n",
       "      <th>sub_counselling_rate_standardised</th>\n",
       "      <th>total_budget_per_100,000</th>\n",
       "      <th>rate_decrease_2008_to_2018</th>\n",
       "    </tr>\n",
       "  </thead>\n",
       "  <tbody>\n",
       "    <tr>\n",
       "      <th>count</th>\n",
       "      <td>152.000000</td>\n",
       "      <td>152.000000</td>\n",
       "      <td>152.000000</td>\n",
       "      <td>1.520000e+02</td>\n",
       "      <td>1.520000e+02</td>\n",
       "      <td>1.520000e+02</td>\n",
       "      <td>1.520000e+02</td>\n",
       "      <td>1.520000e+02</td>\n",
       "      <td>1.520000e+02</td>\n",
       "      <td>152.000000</td>\n",
       "      <td>152.000000</td>\n",
       "    </tr>\n",
       "    <tr>\n",
       "      <th>mean</th>\n",
       "      <td>309.725309</td>\n",
       "      <td>320.977802</td>\n",
       "      <td>344.672903</td>\n",
       "      <td>-2.337312e-17</td>\n",
       "      <td>2.045148e-17</td>\n",
       "      <td>5.112869e-17</td>\n",
       "      <td>4.090295e-17</td>\n",
       "      <td>1.037182e-16</td>\n",
       "      <td>-2.337312e-16</td>\n",
       "      <td>79999.496331</td>\n",
       "      <td>-34.947594</td>\n",
       "    </tr>\n",
       "    <tr>\n",
       "      <th>std</th>\n",
       "      <td>137.057961</td>\n",
       "      <td>139.095966</td>\n",
       "      <td>138.712226</td>\n",
       "      <td>1.000000e+00</td>\n",
       "      <td>1.000000e+00</td>\n",
       "      <td>1.000000e+00</td>\n",
       "      <td>1.000000e+00</td>\n",
       "      <td>1.000000e+00</td>\n",
       "      <td>1.000000e+00</td>\n",
       "      <td>36296.284520</td>\n",
       "      <td>25.197217</td>\n",
       "    </tr>\n",
       "    <tr>\n",
       "      <th>min</th>\n",
       "      <td>74.003594</td>\n",
       "      <td>41.928721</td>\n",
       "      <td>101.387631</td>\n",
       "      <td>-1.568363e+00</td>\n",
       "      <td>-2.035925e+00</td>\n",
       "      <td>-1.386223e+00</td>\n",
       "      <td>-1.112405e+00</td>\n",
       "      <td>-2.192766e+00</td>\n",
       "      <td>-2.308425e+00</td>\n",
       "      <td>63072.580772</td>\n",
       "      <td>-101.448482</td>\n",
       "    </tr>\n",
       "    <tr>\n",
       "      <th>25%</th>\n",
       "      <td>214.840762</td>\n",
       "      <td>226.885552</td>\n",
       "      <td>253.539159</td>\n",
       "      <td>-4.623359e-01</td>\n",
       "      <td>-6.232768e-01</td>\n",
       "      <td>-5.144004e-01</td>\n",
       "      <td>-3.593018e-01</td>\n",
       "      <td>-7.843396e-01</td>\n",
       "      <td>-7.745303e-01</td>\n",
       "      <td>71542.429461</td>\n",
       "      <td>-50.572878</td>\n",
       "    </tr>\n",
       "    <tr>\n",
       "      <th>50%</th>\n",
       "      <td>291.452425</td>\n",
       "      <td>298.483296</td>\n",
       "      <td>318.207213</td>\n",
       "      <td>-4.856257e-02</td>\n",
       "      <td>4.232942e-02</td>\n",
       "      <td>-4.621437e-02</td>\n",
       "      <td>-1.126702e-01</td>\n",
       "      <td>-1.852187e-03</td>\n",
       "      <td>-6.175206e-02</td>\n",
       "      <td>76984.188928</td>\n",
       "      <td>-31.373647</td>\n",
       "    </tr>\n",
       "    <tr>\n",
       "      <th>75%</th>\n",
       "      <td>365.028179</td>\n",
       "      <td>381.065807</td>\n",
       "      <td>406.703912</td>\n",
       "      <td>3.022960e-01</td>\n",
       "      <td>5.076946e-01</td>\n",
       "      <td>3.144941e-01</td>\n",
       "      <td>1.464103e-01</td>\n",
       "      <td>6.178164e-01</td>\n",
       "      <td>5.489758e-01</td>\n",
       "      <td>82101.000561</td>\n",
       "      <td>-17.688315</td>\n",
       "    </tr>\n",
       "    <tr>\n",
       "      <th>max</th>\n",
       "      <td>824.131604</td>\n",
       "      <td>849.613317</td>\n",
       "      <td>872.881356</td>\n",
       "      <td>9.501247e+00</td>\n",
       "      <td>7.477357e+00</td>\n",
       "      <td>9.732718e+00</td>\n",
       "      <td>1.066541e+01</td>\n",
       "      <td>3.113332e+00</td>\n",
       "      <td>4.548750e+00</td>\n",
       "      <td>511543.839307</td>\n",
       "      <td>63.338301</td>\n",
       "    </tr>\n",
       "  </tbody>\n",
       "</table>\n",
       "</div>"
      ],
      "text/plain": [
       "       2008_cases_total_per_100,000  2013_cases_total_per_100,000  \\\n",
       "count                    152.000000                    152.000000   \n",
       "mean                     309.725309                    320.977802   \n",
       "std                      137.057961                    139.095966   \n",
       "min                       74.003594                     41.928721   \n",
       "25%                      214.840762                    226.885552   \n",
       "50%                      291.452425                    298.483296   \n",
       "75%                      365.028179                    381.065807   \n",
       "max                      824.131604                    849.613317   \n",
       "\n",
       "       2018_cases_total_per_100,000  clean_air_rate_standardised  \\\n",
       "count                    152.000000                 1.520000e+02   \n",
       "mean                     344.672903                -2.337312e-17   \n",
       "std                      138.712226                 1.000000e+00   \n",
       "min                      101.387631                -1.568363e+00   \n",
       "25%                      253.539159                -4.623359e-01   \n",
       "50%                      318.207213                -4.856257e-02   \n",
       "75%                      406.703912                 3.022960e-01   \n",
       "max                      872.881356                 9.501247e+00   \n",
       "\n",
       "       clean_environ_rate_standardised  health_training_rate_standardised  \\\n",
       "count                     1.520000e+02                       1.520000e+02   \n",
       "mean                      2.045148e-17                       5.112869e-17   \n",
       "std                       1.000000e+00                       1.000000e+00   \n",
       "min                      -2.035925e+00                      -1.386223e+00   \n",
       "25%                      -6.232768e-01                      -5.144004e-01   \n",
       "50%                       4.232942e-02                      -4.621437e-02   \n",
       "75%                       5.076946e-01                       3.144941e-01   \n",
       "max                       7.477357e+00                       9.732718e+00   \n",
       "\n",
       "       school_awareness_rate_standardised  media_awareness_rate_standardised  \\\n",
       "count                        1.520000e+02                       1.520000e+02   \n",
       "mean                         4.090295e-17                       1.037182e-16   \n",
       "std                          1.000000e+00                       1.000000e+00   \n",
       "min                         -1.112405e+00                      -2.192766e+00   \n",
       "25%                         -3.593018e-01                      -7.843396e-01   \n",
       "50%                         -1.126702e-01                      -1.852187e-03   \n",
       "75%                          1.464103e-01                       6.178164e-01   \n",
       "max                          1.066541e+01                       3.113332e+00   \n",
       "\n",
       "       sub_counselling_rate_standardised  total_budget_per_100,000  \\\n",
       "count                       1.520000e+02                152.000000   \n",
       "mean                       -2.337312e-16              79999.496331   \n",
       "std                         1.000000e+00              36296.284520   \n",
       "min                        -2.308425e+00              63072.580772   \n",
       "25%                        -7.745303e-01              71542.429461   \n",
       "50%                        -6.175206e-02              76984.188928   \n",
       "75%                         5.489758e-01              82101.000561   \n",
       "max                         4.548750e+00             511543.839307   \n",
       "\n",
       "       rate_decrease_2008_to_2018  \n",
       "count                  152.000000  \n",
       "mean                   -34.947594  \n",
       "std                     25.197217  \n",
       "min                   -101.448482  \n",
       "25%                    -50.572878  \n",
       "50%                    -31.373647  \n",
       "75%                    -17.688315  \n",
       "max                     63.338301  "
      ]
     },
     "execution_count": 25,
     "metadata": {},
     "output_type": "execute_result"
    }
   ],
   "source": [
    "co_data[['2008_cases_total_per_100,000', '2013_cases_total_per_100,000',\n",
    "       '2018_cases_total_per_100,000', 'clean_air_rate_standardised',\n",
    "       'clean_environ_rate_standardised', 'health_training_rate_standardised',\n",
    "       'school_awareness_rate_standardised', 'media_awareness_rate_standardised',\n",
    "       'sub_counselling_rate_standardised', 'total_budget_per_100,000', 'rate_decrease_2008_to_2018']].describe()"
   ]
  },
  {
   "cell_type": "markdown",
   "metadata": {},
   "source": [
    " #### Create a function which generates histograms"
   ]
  },
  {
   "cell_type": "code",
   "execution_count": 26,
   "metadata": {},
   "outputs": [],
   "source": [
    "def histogram(xlabel, figure, height): # Expected input: column name from which to generate histogram, histogram number (figure), and height of y-axis\n",
    "\n",
    "    data = co_data[xlabel]\n",
    "\n",
    "    datamin = data.min()\n",
    "    datamax = data.max()\n",
    "    datamean = data.mean()\n",
    "    datastd = data.std()\n",
    "    n = len(data)\n",
    "\n",
    "    hist_min = int(min(data)) - 1\n",
    "    hist_max = int(max(data)) + 2\n",
    "    x_range = [hist_min, hist_max]\n",
    "    y_range = [0.0,height]\n",
    "\n",
    "    n_cols = 12\n",
    "\n",
    "    plt.figure(figure)\n",
    "    data.hist(range=x_range, bins=n_cols, density=True)\n",
    "    plt.ylim(y_range)\n",
    "    plt.title(f'Density Histogram {str(figure)}:\\n{xlabel}')\n",
    "    plt.xlabel(xlabel)\n",
    "    plt.ylabel('Density')"
   ]
  },
  {
   "cell_type": "markdown",
   "metadata": {},
   "source": [
    " #### Create new columns for the natural logs of cases rates"
   ]
  },
  {
   "cell_type": "code",
   "execution_count": 27,
   "metadata": {},
   "outputs": [],
   "source": [
    "co_data['ln_cases_2008'] = np.log(co_data['2008_cases_total_per_100,000'])\n",
    "co_data['ln_cases_2018'] = np.log(co_data['2018_cases_total_per_100,000'])"
   ]
  },
  {
   "cell_type": "markdown",
   "metadata": {},
   "source": [
    " #### Generate four histograms using the histogram() function for four sets of values from the data"
   ]
  },
  {
   "cell_type": "code",
   "execution_count": 28,
   "metadata": {},
   "outputs": [
    {
     "data": {
      "image/png": "[encoded data removed]",
      "text/plain": [
       "<Figure size 432x288 with 1 Axes>"
      ]
     },
     "metadata": {
      "needs_background": "light"
     },
     "output_type": "display_data"
    },
    {
     "data": {
      "image/png": "[encoded data removed]",
      "text/plain": [
       "<Figure size 432x288 with 1 Axes>"
      ]
     },
     "metadata": {
      "needs_background": "light"
     },
     "output_type": "display_data"
    },
    {
     "data": {
      "image/png": "[encoded data removed]",
      "text/plain": [
       "<Figure size 432x288 with 1 Axes>"
      ]
     },
     "metadata": {
      "needs_background": "light"
     },
     "output_type": "display_data"
    },
    {
     "data": {
      "image/png": "[encoded data removed]",
      "text/plain": [
       "<Figure size 432x288 with 1 Axes>"
      ]
     },
     "metadata": {
      "needs_background": "light"
     },
     "output_type": "display_data"
    }
   ],
   "source": [
    "histogram('2008_cases_total_per_100,000', 1, 0.004)\n",
    "histogram('2018_cases_total_per_100,000', 2, 0.004)\n",
    "histogram('ln_cases_2008', 3, 1.1)\n",
    "histogram('ln_cases_2018', 4, 1.1)"
   ]
  },
  {
   "cell_type": "markdown",
   "metadata": {},
   "source": [
    " #### Set alpha value in advance as a threshold for means comparison test"
   ]
  },
  {
   "cell_type": "code",
   "execution_count": 29,
   "metadata": {},
   "outputs": [],
   "source": [
    "alpha = 0.05"
   ]
  },
  {
   "cell_type": "markdown",
   "metadata": {},
   "source": [
    "#### Determine whether standard deviation of the two sets of values are similar"
   ]
  },
  {
   "cell_type": "code",
   "execution_count": 42,
   "metadata": {},
   "outputs": [],
   "source": [
    "std_ratio = cases_2008.std()/cases_2018.std()\n",
    "\n",
    "if std_ratio > 0.5 and std_ratio < 2:\n",
    "    equal_stds = True\n",
    "else:\n",
    "    equal_stds = False"
   ]
  },
  {
   "cell_type": "markdown",
   "metadata": {},
   "source": [
    " #### Code for means comparison test and output"
   ]
  },
  {
   "cell_type": "code",
   "execution_count": 43,
   "metadata": {},
   "outputs": [
    {
     "name": "stdout",
     "output_type": "stream",
     "text": [
      "H0: Mean of 2008 population =  Mean of 2018 population\n",
      "H1: Mean of 2008 population != Mean of 2018 population\n",
      "T Statistic = -2.209525114815581\n",
      "p-value = 0.027888280286754177\n",
      "p-value < significance threshold of 0.05.\n",
      "Reject H0. Accept H1.\n",
      "Conclude that samples are drawn from populations with different means.\n"
     ]
    }
   ],
   "source": [
    "print(\"H0: Mean of 2008 population =  Mean of 2018 population\")\n",
    "print(\"H1: Mean of 2008 population != Mean of 2018 population\")\n",
    "\n",
    "test_stat, p_value = sps.ttest_ind(cases_2008,\n",
    "                                   cases_2018,\n",
    "                                   equal_var = equal_stds)\n",
    "print(\"T Statistic =\", test_stat)\n",
    "print(\"p-value =\", p_value)\n",
    "\n",
    "if p_value < alpha:\n",
    "    print(f\"p-value < significance threshold of {alpha}.\")\n",
    "    print(\"Reject H0. Accept H1.\")\n",
    "    print(\"Conclude that samples are drawn from populations with different means.\")\n",
    "elif p_value >= alpha:\n",
    "    print(\"p-value >= significance threshold.\")\n",
    "    print(\"No significant evidence to reject H0.\")\n",
    "    print(\"Assume samples are drawn from populations with the same mean.\")"
   ]
  },
  {
   "cell_type": "markdown",
   "metadata": {},
   "source": [
    " #### Create function which carries out a VIF test and removes values until all values are below the threshold of 5"
   ]
  },
  {
   "cell_type": "code",
   "execution_count": 44,
   "metadata": {},
   "outputs": [],
   "source": [
    "from statsmodels.stats.outliers_influence import variance_inflation_factor \n",
    "from statsmodels.tools.tools import add_constant\n",
    "\n",
    "def drop_column_using_vif(df, thresh=5):\n",
    "    '''\n",
    "    Calculates VIF each feature in a pandas dataframe, and repeatedly drop the columns with the highest VIF\n",
    "    A constant must be added to variance_inflation_factor or the results will be incorrect\n",
    "\n",
    "    :param df: the pandas dataframe containing only the predictor features, not the response variable\n",
    "    :param thresh: (default 5) the threshould VIF value. If the VIF of a variable is greater than thresh, it should be removed from the dataframe\n",
    "    :return: dataframe with multicollinear features removed\n",
    "    '''\n",
    "    while True:\n",
    "        \n",
    "        df_with_const = add_constant(df)\n",
    "\n",
    "        vif_df = pd.Series([variance_inflation_factor(df_with_const.values, i) \n",
    "               for i in range(df_with_const.shape[1])], name= \"VIF\",\n",
    "              index=df_with_const.columns).to_frame()\n",
    "\n",
    "        vif_df = vif_df.drop('const')\n",
    "        \n",
    "        # If the largest VIF is above the thresh, remove a variable with the largest VIF\n",
    "        # If there are multiple variabels with VIF>thresh, only one of them is removed. This is because we want to keep as many variables as possible\n",
    "        if vif_df.VIF.max() > thresh:\n",
    "            # If there are multiple variables with the maximum VIF, choose the first one\n",
    "            index_to_drop = vif_df.index[vif_df.VIF == vif_df.VIF.max()].tolist()[0]\n",
    "            print('\\nDropping: {}'.format(index_to_drop))\n",
    "            df = df.drop(columns = index_to_drop)\n",
    "        else:\n",
    "            break\n",
    "\n",
    "    return df"
   ]
  },
  {
   "cell_type": "markdown",
   "metadata": {},
   "source": [
    "#### Create function which performs multiple linear regression of the change of childhood obesity rates on an inputted column of data"
   ]
  },
  {
   "cell_type": "code",
   "execution_count": 48,
   "metadata": {},
   "outputs": [],
   "source": [
    "def multiple_regression(columns, dummies = True):\n",
    "    \n",
    "    if dummies == True: # If the input is a category variable column label, dummies are created from the categories\n",
    "        data = pd.get_dummies(co_data[columns], columns = [columns])\n",
    "        label = columns + \" dummy\"\n",
    "    else:\n",
    "        data = co_data[columns]\n",
    "        label = 'Funding Areas'\n",
    "    \n",
    "    data_with_VIF = drop_column_using_vif(data)\n",
    "    print(f\"\\nThe columns remaining after VIF selection are: \\n\\n{list(data_with_VIF.columns)}\\n\")\n",
    "    \n",
    "    model_co = sm.OLS(endog=co_data['rate_decrease_2008_to_2018'], exog=sm.add_constant(data_with_VIF)).fit()\n",
    "    print(model_co.summary())\n",
    "    \n",
    "    plt.axhline(y=0.5, color='darkgray', linestyle='-')\n",
    "    plt.scatter(model_co.fittedvalues, model_co.resid)\n",
    "    plt.xlabel('Fitted Childhood Obesity Rate Decrease')\n",
    "    plt.ylabel(f'Residual')\n",
    "    plt.title(f'Residual vs. Fitted Plot of Childhood Obesity\\nwith {label} variables')\n",
    "    plt.show()"
   ]
  },
  {
   "cell_type": "markdown",
   "metadata": {},
   "source": [
    "#### Create a series containing column names for funding rate values"
   ]
  },
  {
   "cell_type": "code",
   "execution_count": 49,
   "metadata": {},
   "outputs": [],
   "source": [
    "funding_area_columns = ['clean_air_rate_standardised', 'clean_environ_rate_standardised',\n",
    "                                          'health_training_rate_standardised', 'school_awareness_rate_standardised',\n",
    "                                          'media_awareness_rate_standardised', 'sub_counselling_rate_standardised']"
   ]
  },
  {
   "cell_type": "markdown",
   "metadata": {},
   "source": [
    "#### Perform three multiple regressions"
   ]
  },
  {
   "cell_type": "code",
   "execution_count": 50,
   "metadata": {},
   "outputs": [
    {
     "name": "stdout",
     "output_type": "stream",
     "text": [
      "\n",
      "The columns remaining after VIF selection are: \n",
      "\n",
      "['clean_air_rate_standardised', 'clean_environ_rate_standardised', 'health_training_rate_standardised', 'school_awareness_rate_standardised', 'media_awareness_rate_standardised', 'sub_counselling_rate_standardised']\n",
      "\n",
      "                                OLS Regression Results                                \n",
      "======================================================================================\n",
      "Dep. Variable:     rate_decrease_2008_to_2018   R-squared:                       0.163\n",
      "Model:                                    OLS   Adj. R-squared:                  0.128\n",
      "Method:                         Least Squares   F-statistic:                     4.701\n",
      "Date:                        Mon, 15 Nov 2021   Prob (F-statistic):           0.000211\n",
      "Time:                                15:21:33   Log-Likelihood:                -692.13\n",
      "No. Observations:                         152   AIC:                             1398.\n",
      "Df Residuals:                             145   BIC:                             1419.\n",
      "Df Model:                                   6                                         \n",
      "Covariance Type:                    nonrobust                                         \n",
      "======================================================================================================\n",
      "                                         coef    std err          t      P>|t|      [0.025      0.975]\n",
      "------------------------------------------------------------------------------------------------------\n",
      "const                                -34.9476      1.908    -18.314      0.000     -38.719     -31.176\n",
      "clean_air_rate_standardised            0.8792      2.611      0.337      0.737      -4.282       6.040\n",
      "clean_environ_rate_standardised       -3.7455      2.198     -1.704      0.090      -8.089       0.598\n",
      "health_training_rate_standardised     -0.9576      2.911     -0.329      0.743      -6.711       4.795\n",
      "school_awareness_rate_standardised     8.1572      2.704      3.017      0.003       2.813      13.502\n",
      "media_awareness_rate_standardised     -6.7174      1.963     -3.422      0.001     -10.597      -2.838\n",
      "sub_counselling_rate_standardised     -2.7758      1.957     -1.418      0.158      -6.644       1.093\n",
      "==============================================================================\n",
      "Omnibus:                        2.061   Durbin-Watson:                   2.095\n",
      "Prob(Omnibus):                  0.357   Jarque-Bera (JB):                1.952\n",
      "Skew:                          -0.193   Prob(JB):                        0.377\n",
      "Kurtosis:                       2.601   Cond. No.                         2.89\n",
      "==============================================================================\n",
      "\n",
      "Notes:\n",
      "[1] Standard Errors assume that the covariance matrix of the errors is correctly specified.\n"
     ]
    },
    {
     "name": "stderr",
     "output_type": "stream",
     "text": [
      "/opt/conda/envs/sds2021/lib/python3.9/site-packages/statsmodels/tsa/tsatools.py:142: FutureWarning: In a future version of pandas all arguments of concat except for the argument 'objs' will be keyword-only\n",
      "  x = pd.concat(x[::order], 1)\n"
     ]
    },
    {
     "data": {
      "image/png": "[encoded data removed]",
      "text/plain": [
       "<Figure size 432x288 with 1 Axes>"
      ]
     },
     "metadata": {
      "needs_background": "light"
     },
     "output_type": "display_data"
    },
    {
     "name": "stderr",
     "output_type": "stream",
     "text": [
      "/opt/conda/envs/sds2021/lib/python3.9/site-packages/statsmodels/tsa/tsatools.py:142: FutureWarning: In a future version of pandas all arguments of concat except for the argument 'objs' will be keyword-only\n",
      "  x = pd.concat(x[::order], 1)\n",
      "/opt/conda/envs/sds2021/lib/python3.9/site-packages/statsmodels/regression/linear_model.py:1715: RuntimeWarning: divide by zero encountered in double_scalars\n",
      "  return 1 - self.ssr/self.centered_tss\n",
      "/opt/conda/envs/sds2021/lib/python3.9/site-packages/statsmodels/stats/outliers_influence.py:193: RuntimeWarning: divide by zero encountered in double_scalars\n",
      "  vif = 1. / (1. - r_squared_i)\n"
     ]
    },
    {
     "name": "stdout",
     "output_type": "stream",
     "text": [
      "\n",
      "Dropping: london_borough\n",
      "\n",
      "The columns remaining after VIF selection are: \n",
      "\n",
      "['metropolitan_borough', 'non_metropolitan_county', 'other_london', 'unitary_authority']\n",
      "\n",
      "                                OLS Regression Results                                \n",
      "======================================================================================\n",
      "Dep. Variable:     rate_decrease_2008_to_2018   R-squared:                       0.533\n",
      "Model:                                    OLS   Adj. R-squared:                  0.521\n",
      "Method:                         Least Squares   F-statistic:                     42.00\n",
      "Date:                        Mon, 15 Nov 2021   Prob (F-statistic):           1.90e-23\n",
      "Time:                                15:21:33   Log-Likelihood:                -647.72\n",
      "No. Observations:                         152   AIC:                             1305.\n",
      "Df Residuals:                             147   BIC:                             1321.\n",
      "Df Model:                                   4                                         \n",
      "Covariance Type:                    nonrobust                                         \n",
      "===========================================================================================\n",
      "                              coef    std err          t      P>|t|      [0.025      0.975]\n",
      "-------------------------------------------------------------------------------------------\n",
      "const                     -64.7158      3.084    -20.984      0.000     -70.811     -58.621\n",
      "metropolitan_borough       20.6380      4.239      4.869      0.000      12.261      29.015\n",
      "non_metropolitan_county    46.2269      4.559     10.140      0.000      37.217      55.237\n",
      "other_london               57.3179     17.717      3.235      0.002      22.306      92.330\n",
      "unitary_authority          44.2208      3.866     11.438      0.000      36.580      51.861\n",
      "==============================================================================\n",
      "Omnibus:                       27.395   Durbin-Watson:                   1.962\n",
      "Prob(Omnibus):                  0.000   Jarque-Bera (JB):              129.449\n",
      "Skew:                           0.448   Prob(JB):                     7.77e-29\n",
      "Kurtosis:                       7.431   Cond. No.                         14.0\n",
      "==============================================================================\n",
      "\n",
      "Notes:\n",
      "[1] Standard Errors assume that the covariance matrix of the errors is correctly specified.\n"
     ]
    },
    {
     "data": {
      "image/png": "[encoded data removed]",
      "text/plain": [
       "<Figure size 432x288 with 1 Axes>"
      ]
     },
     "metadata": {
      "needs_background": "light"
     },
     "output_type": "display_data"
    },
    {
     "name": "stderr",
     "output_type": "stream",
     "text": [
      "/opt/conda/envs/sds2021/lib/python3.9/site-packages/statsmodels/tsa/tsatools.py:142: FutureWarning: In a future version of pandas all arguments of concat except for the argument 'objs' will be keyword-only\n",
      "  x = pd.concat(x[::order], 1)\n",
      "/opt/conda/envs/sds2021/lib/python3.9/site-packages/statsmodels/regression/linear_model.py:1715: RuntimeWarning: divide by zero encountered in double_scalars\n",
      "  return 1 - self.ssr/self.centered_tss\n",
      "/opt/conda/envs/sds2021/lib/python3.9/site-packages/statsmodels/stats/outliers_influence.py:193: RuntimeWarning: divide by zero encountered in double_scalars\n",
      "  vif = 1. / (1. - r_squared_i)\n"
     ]
    },
    {
     "name": "stdout",
     "output_type": "stream",
     "text": [
      "\n",
      "Dropping: East Midlands\n",
      "\n",
      "The columns remaining after VIF selection are: \n",
      "\n",
      "['East of England', 'London', 'North East', 'North West', 'South East', 'South West', 'West Midlands', 'Yorkshire and the Humber']\n",
      "\n",
      "                                OLS Regression Results                                \n",
      "======================================================================================\n",
      "Dep. Variable:     rate_decrease_2008_to_2018   R-squared:                       0.552\n",
      "Model:                                    OLS   Adj. R-squared:                  0.527\n",
      "Method:                         Least Squares   F-statistic:                     22.05\n",
      "Date:                        Mon, 15 Nov 2021   Prob (F-statistic):           1.29e-21\n",
      "Time:                                15:21:33   Log-Likelihood:                -644.58\n",
      "No. Observations:                         152   AIC:                             1307.\n",
      "Df Residuals:                             143   BIC:                             1334.\n",
      "Df Model:                                   8                                         \n",
      "Covariance Type:                    nonrobust                                         \n",
      "============================================================================================\n",
      "                               coef    std err          t      P>|t|      [0.025      0.975]\n",
      "--------------------------------------------------------------------------------------------\n",
      "const                      -13.7346      5.775     -2.378      0.019     -25.151      -2.319\n",
      "East of England             -0.8994      7.787     -0.115      0.908     -16.293      14.494\n",
      "London                     -49.2443      6.515     -7.558      0.000     -62.123     -36.365\n",
      "North East                 -20.4768      7.640     -2.680      0.008     -35.579      -5.375\n",
      "North West                 -32.3947      6.812     -4.755      0.000     -45.860     -18.929\n",
      "South East                  -5.4080      7.011     -0.771      0.442     -19.267       8.451\n",
      "South West                   3.9207      7.219      0.543      0.588     -10.349      18.191\n",
      "West Midlands              -14.6422      7.402     -1.978      0.050     -29.275      -0.010\n",
      "Yorkshire and the Humber   -23.5734      7.305     -3.227      0.002     -38.014      -9.133\n",
      "==============================================================================\n",
      "Omnibus:                       24.132   Durbin-Watson:                   2.089\n",
      "Prob(Omnibus):                  0.000   Jarque-Bera (JB):               45.495\n",
      "Skew:                           0.733   Prob(JB):                     1.32e-10\n",
      "Kurtosis:                       5.244   Cond. No.                         13.5\n",
      "==============================================================================\n",
      "\n",
      "Notes:\n",
      "[1] Standard Errors assume that the covariance matrix of the errors is correctly specified.\n"
     ]
    },
    {
     "data": {
      "image/png": "[encoded data removed]",
      "text/plain": [
       "<Figure size 432x288 with 1 Axes>"
      ]
     },
     "metadata": {
      "needs_background": "light"
     },
     "output_type": "display_data"
    }
   ],
   "source": [
    "multiple_regression(funding_area_columns, dummies = False)\n",
    "multiple_regression('local_authority_type')\n",
    "multiple_regression('region')"
   ]
  },
  {
   "cell_type": "code",
   "execution_count": null,
   "metadata": {},
   "outputs": [],
   "source": []
  }
 ],
 "metadata": {
  "kernelspec": {
   "display_name": "Python 3 (ipykernel)",
   "language": "python",
   "name": "python3"
  },
  "language_info": {
   "codemirror_mode": {
    "name": "ipython",
    "version": 3
   },
   "file_extension": ".py",
   "mimetype": "text/x-python",
   "name": "python",
   "nbconvert_exporter": "python",
   "pygments_lexer": "ipython3",
   "version": "3.9.6"
  },
  "toc": {
   "base_numbering": 1,
   "nav_menu": {},
   "number_sections": true,
   "sideBar": true,
   "skip_h1_title": false,
   "title_cell": "Table of Contents",
   "title_sidebar": "Contents",
   "toc_cell": false,
   "toc_position": {
    "height": "calc(100% - 180px)",
    "left": "10px",
    "top": "150px",
    "width": "292.571px"
   },
   "toc_section_display": true,
   "toc_window_display": true
  }
 },
 "nbformat": 4,
 "nbformat_minor": 4
}
